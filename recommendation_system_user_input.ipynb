{
 "cells": [
  {
   "cell_type": "code",
   "execution_count": 1,
   "metadata": {},
   "outputs": [],
   "source": [
    "import numpy as np\n",
    "import pandas as pd"
   ]
  },
  {
   "cell_type": "code",
   "execution_count": 2,
   "metadata": {},
   "outputs": [
    {
     "data": {
      "text/html": [
       "<div>\n",
       "<style scoped>\n",
       "    .dataframe tbody tr th:only-of-type {\n",
       "        vertical-align: middle;\n",
       "    }\n",
       "\n",
       "    .dataframe tbody tr th {\n",
       "        vertical-align: top;\n",
       "    }\n",
       "\n",
       "    .dataframe thead th {\n",
       "        text-align: right;\n",
       "    }\n",
       "</style>\n",
       "<table border=\"1\" class=\"dataframe\">\n",
       "  <thead>\n",
       "    <tr style=\"text-align: right;\">\n",
       "      <th></th>\n",
       "      <th>movieId</th>\n",
       "      <th>title</th>\n",
       "      <th>genres</th>\n",
       "    </tr>\n",
       "  </thead>\n",
       "  <tbody>\n",
       "    <tr>\n",
       "      <th>0</th>\n",
       "      <td>1</td>\n",
       "      <td>Toy Story (1995)</td>\n",
       "      <td>Adventure|Animation|Children|Comedy|Fantasy</td>\n",
       "    </tr>\n",
       "    <tr>\n",
       "      <th>1</th>\n",
       "      <td>2</td>\n",
       "      <td>Jumanji (1995)</td>\n",
       "      <td>Adventure|Children|Fantasy</td>\n",
       "    </tr>\n",
       "    <tr>\n",
       "      <th>2</th>\n",
       "      <td>3</td>\n",
       "      <td>Grumpier Old Men (1995)</td>\n",
       "      <td>Comedy|Romance</td>\n",
       "    </tr>\n",
       "    <tr>\n",
       "      <th>3</th>\n",
       "      <td>4</td>\n",
       "      <td>Waiting to Exhale (1995)</td>\n",
       "      <td>Comedy|Drama|Romance</td>\n",
       "    </tr>\n",
       "    <tr>\n",
       "      <th>4</th>\n",
       "      <td>5</td>\n",
       "      <td>Father of the Bride Part II (1995)</td>\n",
       "      <td>Comedy</td>\n",
       "    </tr>\n",
       "  </tbody>\n",
       "</table>\n",
       "</div>"
      ],
      "text/plain": [
       "   movieId                               title  \\\n",
       "0        1                    Toy Story (1995)   \n",
       "1        2                      Jumanji (1995)   \n",
       "2        3             Grumpier Old Men (1995)   \n",
       "3        4            Waiting to Exhale (1995)   \n",
       "4        5  Father of the Bride Part II (1995)   \n",
       "\n",
       "                                        genres  \n",
       "0  Adventure|Animation|Children|Comedy|Fantasy  \n",
       "1                   Adventure|Children|Fantasy  \n",
       "2                               Comedy|Romance  \n",
       "3                         Comedy|Drama|Romance  \n",
       "4                                       Comedy  "
      ]
     },
     "execution_count": 2,
     "metadata": {},
     "output_type": "execute_result"
    }
   ],
   "source": [
    "dataset_movies = pd.read_csv('movies (1).csv')\n",
    "dataset_movies.head()"
   ]
  },
  {
   "cell_type": "code",
   "execution_count": 3,
   "metadata": {},
   "outputs": [
    {
     "data": {
      "text/html": [
       "<div>\n",
       "<style scoped>\n",
       "    .dataframe tbody tr th:only-of-type {\n",
       "        vertical-align: middle;\n",
       "    }\n",
       "\n",
       "    .dataframe tbody tr th {\n",
       "        vertical-align: top;\n",
       "    }\n",
       "\n",
       "    .dataframe thead th {\n",
       "        text-align: right;\n",
       "    }\n",
       "</style>\n",
       "<table border=\"1\" class=\"dataframe\">\n",
       "  <thead>\n",
       "    <tr style=\"text-align: right;\">\n",
       "      <th></th>\n",
       "      <th>userId</th>\n",
       "      <th>movieId</th>\n",
       "      <th>rating</th>\n",
       "      <th>timestamp</th>\n",
       "    </tr>\n",
       "  </thead>\n",
       "  <tbody>\n",
       "    <tr>\n",
       "      <th>0</th>\n",
       "      <td>1</td>\n",
       "      <td>1</td>\n",
       "      <td>4.0</td>\n",
       "      <td>964982703</td>\n",
       "    </tr>\n",
       "    <tr>\n",
       "      <th>1</th>\n",
       "      <td>1</td>\n",
       "      <td>3</td>\n",
       "      <td>4.0</td>\n",
       "      <td>964981247</td>\n",
       "    </tr>\n",
       "    <tr>\n",
       "      <th>2</th>\n",
       "      <td>1</td>\n",
       "      <td>6</td>\n",
       "      <td>4.0</td>\n",
       "      <td>964982224</td>\n",
       "    </tr>\n",
       "    <tr>\n",
       "      <th>3</th>\n",
       "      <td>1</td>\n",
       "      <td>47</td>\n",
       "      <td>5.0</td>\n",
       "      <td>964983815</td>\n",
       "    </tr>\n",
       "    <tr>\n",
       "      <th>4</th>\n",
       "      <td>1</td>\n",
       "      <td>50</td>\n",
       "      <td>5.0</td>\n",
       "      <td>964982931</td>\n",
       "    </tr>\n",
       "  </tbody>\n",
       "</table>\n",
       "</div>"
      ],
      "text/plain": [
       "   userId  movieId  rating  timestamp\n",
       "0       1        1     4.0  964982703\n",
       "1       1        3     4.0  964981247\n",
       "2       1        6     4.0  964982224\n",
       "3       1       47     5.0  964983815\n",
       "4       1       50     5.0  964982931"
      ]
     },
     "execution_count": 3,
     "metadata": {},
     "output_type": "execute_result"
    }
   ],
   "source": [
    "\n",
    "dataset_ratings = pd.read_csv('ratings (1).csv')\n",
    "dataset_ratings.head()"
   ]
  },
  {
   "cell_type": "code",
   "execution_count": 4,
   "metadata": {},
   "outputs": [
    {
     "name": "stdout",
     "output_type": "stream",
     "text": [
      "Number of Ratings:  100836\n",
      "Number of user IDs:  610\n",
      "Number of Movie IDs:  9724\n",
      "Average Ratings per User ID: 165\n",
      "Average Ratings per Movie ID: 10\n"
     ]
    }
   ],
   "source": [
    "n_userID=len(dataset_ratings['userId'].unique())\n",
    "n_movieID=len(dataset_ratings['movieId'].unique())\n",
    "n_rating=len(dataset_ratings)\n",
    "print(\"Number of Ratings: \",n_rating)\n",
    "print(\"Number of user IDs: \",n_userID)\n",
    "print('Number of Movie IDs: ', n_movieID)\n",
    "print('Average Ratings per User ID:', round(n_rating/n_userID))\n",
    "print('Average Ratings per Movie ID:',round(n_rating/n_movieID))"
   ]
  },
  {
   "cell_type": "code",
   "execution_count": 5,
   "metadata": {},
   "outputs": [
    {
     "data": {
      "text/html": [
       "<div>\n",
       "<style scoped>\n",
       "    .dataframe tbody tr th:only-of-type {\n",
       "        vertical-align: middle;\n",
       "    }\n",
       "\n",
       "    .dataframe tbody tr th {\n",
       "        vertical-align: top;\n",
       "    }\n",
       "\n",
       "    .dataframe thead th {\n",
       "        text-align: right;\n",
       "    }\n",
       "</style>\n",
       "<table border=\"1\" class=\"dataframe\">\n",
       "  <thead>\n",
       "    <tr style=\"text-align: right;\">\n",
       "      <th></th>\n",
       "      <th>userId</th>\n",
       "      <th>rating</th>\n",
       "    </tr>\n",
       "  </thead>\n",
       "  <tbody>\n",
       "    <tr>\n",
       "      <th>0</th>\n",
       "      <td>1</td>\n",
       "      <td>232</td>\n",
       "    </tr>\n",
       "    <tr>\n",
       "      <th>1</th>\n",
       "      <td>2</td>\n",
       "      <td>29</td>\n",
       "    </tr>\n",
       "    <tr>\n",
       "      <th>2</th>\n",
       "      <td>3</td>\n",
       "      <td>39</td>\n",
       "    </tr>\n",
       "    <tr>\n",
       "      <th>3</th>\n",
       "      <td>4</td>\n",
       "      <td>216</td>\n",
       "    </tr>\n",
       "    <tr>\n",
       "      <th>4</th>\n",
       "      <td>5</td>\n",
       "      <td>44</td>\n",
       "    </tr>\n",
       "  </tbody>\n",
       "</table>\n",
       "</div>"
      ],
      "text/plain": [
       "   userId  rating\n",
       "0       1     232\n",
       "1       2      29\n",
       "2       3      39\n",
       "3       4     216\n",
       "4       5      44"
      ]
     },
     "execution_count": 5,
     "metadata": {},
     "output_type": "execute_result"
    }
   ],
   "source": [
    "n_user_rating=dataset_ratings[['userId','rating']].groupby('userId').count().reset_index()\n",
    "n_user_rating.head()"
   ]
  },
  {
   "cell_type": "code",
   "execution_count": 6,
   "metadata": {},
   "outputs": [
    {
     "name": "stdout",
     "output_type": "stream",
     "text": [
      "Number of Low Rating Movies: 3604\n",
      "Number of High Rating Movies: 53\n"
     ]
    },
    {
     "data": {
      "text/html": [
       "<div>\n",
       "<style scoped>\n",
       "    .dataframe tbody tr th:only-of-type {\n",
       "        vertical-align: middle;\n",
       "    }\n",
       "\n",
       "    .dataframe tbody tr th {\n",
       "        vertical-align: top;\n",
       "    }\n",
       "\n",
       "    .dataframe thead th {\n",
       "        text-align: right;\n",
       "    }\n",
       "</style>\n",
       "<table border=\"1\" class=\"dataframe\">\n",
       "  <thead>\n",
       "    <tr style=\"text-align: right;\">\n",
       "      <th></th>\n",
       "      <th>count</th>\n",
       "      <th>mean</th>\n",
       "    </tr>\n",
       "    <tr>\n",
       "      <th>movieId</th>\n",
       "      <th></th>\n",
       "      <th></th>\n",
       "    </tr>\n",
       "  </thead>\n",
       "  <tbody>\n",
       "    <tr>\n",
       "      <th>1</th>\n",
       "      <td>215</td>\n",
       "      <td>3.920930</td>\n",
       "    </tr>\n",
       "    <tr>\n",
       "      <th>2</th>\n",
       "      <td>110</td>\n",
       "      <td>3.431818</td>\n",
       "    </tr>\n",
       "    <tr>\n",
       "      <th>3</th>\n",
       "      <td>52</td>\n",
       "      <td>3.259615</td>\n",
       "    </tr>\n",
       "    <tr>\n",
       "      <th>4</th>\n",
       "      <td>7</td>\n",
       "      <td>2.357143</td>\n",
       "    </tr>\n",
       "    <tr>\n",
       "      <th>5</th>\n",
       "      <td>49</td>\n",
       "      <td>3.071429</td>\n",
       "    </tr>\n",
       "  </tbody>\n",
       "</table>\n",
       "</div>"
      ],
      "text/plain": [
       "         count      mean\n",
       "movieId                 \n",
       "1          215  3.920930\n",
       "2          110  3.431818\n",
       "3           52  3.259615\n",
       "4            7  2.357143\n",
       "5           49  3.071429"
      ]
     },
     "execution_count": 6,
     "metadata": {},
     "output_type": "execute_result"
    }
   ],
   "source": [
    "mean_rating=dataset_ratings.groupby('movieId')[['rating']].mean()\n",
    "lowest_rating=mean_rating['rating'].idxmin()\n",
    "print('Number of Low Rating Movies:',lowest_rating)\n",
    "highest_rating=mean_rating['rating'].idxmax()\n",
    "print('Number of High Rating Movies:',highest_rating)\n",
    "movie_stats = dataset_ratings.groupby('movieId')[['rating']].agg(['count', 'mean'])\n",
    "movie_stats.columns = movie_stats.columns.droplevel()\n",
    "movie_stats.head()\n"
   ]
  },
  {
   "cell_type": "code",
   "execution_count": 7,
   "metadata": {},
   "outputs": [
    {
     "name": "stdout",
     "output_type": "stream",
     "text": [
      "Available columns: ['userId', 'movieId', 'rating', 'timestamp']\n",
      "\n",
      "First few rows of your data:\n",
      "   userId  movieId  rating  timestamp\n",
      "0       1        1     4.0  964982703\n",
      "1       1        3     4.0  964981247\n",
      "2       1        6     4.0  964982224\n",
      "3       1       47     5.0  964983815\n",
      "4       1       50     5.0  964982931\n"
     ]
    }
   ],
   "source": [
    "# Add this code before running your main code to debug:\n",
    "print(\"Available columns:\", dataset_ratings.columns.tolist())\n",
    "print(\"\\nFirst few rows of your data:\")\n",
    "print(dataset_ratings.head())"
   ]
  },
  {
   "cell_type": "code",
   "execution_count": 8,
   "metadata": {},
   "outputs": [],
   "source": [
    "from scipy.sparse import csr_matrix\n",
    "def Matrix(df):\n",
    "    n=len(df['userId'].unique())\n",
    "    m=len(df['movieId'].unique())\n",
    "    #Ids to indexes\n",
    "    user_map_to_index=dict(zip(np.unique(df['userId']), list(range(n))))\n",
    "    movie_map_to_index=dict(zip(np.unique(df['movieId']), list(range(m))))\n",
    "    #Indexes to IDs\n",
    "    user_inv=dict(zip(np.unique(list(range(n))), df['userId']))\n",
    "    movie_inv=dict(zip(np.unique(list(range(m))), df['movieId']))\n",
    "    user_index=[user_map_to_index[i] for i in df['userId']]\n",
    "    movie_index=[movie_map_to_index[i] for i in df['movieId']]\n",
    "    X = csr_matrix((df['rating'], (movie_index,user_index)), shape=(m,n))\n",
    "    return X,user_map_to_index,movie_map_to_index,user_inv,movie_inv\n",
    "X,user_map_to_index,movie_map_to_index,user_inv,movie_inv=Matrix(dataset_ratings)\n",
    "\n",
    "    "
   ]
  },
  {
   "cell_type": "code",
   "execution_count": 9,
   "metadata": {},
   "outputs": [
    {
     "name": "stdout",
     "output_type": "stream",
     "text": [
      "enter movie id\n",
      "Since you watched Grumpier Old Men (1995)\n",
      "Bean (1997)\n",
      "Happy Gilmore (1996)\n",
      "Clockers (1995)\n",
      "Bio-Dome (1996)\n",
      "Usual Suspects, The (1995)\n",
      "Groundhog Day (1993)\n",
      "Ghost and the Darkness, The (1996)\n",
      "Leaving Las Vegas (1995)\n",
      "Bottle Rocket (1996)\n",
      "Labyrinth (1986)\n"
     ]
    }
   ],
   "source": [
    "from sklearn.neighbors import NearestNeighbors\n",
    "def find_similar_movies(movie_id,X,k,metric='cosine',show_distance=False):\n",
    "    neighbor_id=[]\n",
    "    movie_ind=movie_map_to_index[movie_id]\n",
    "    movie_vec=X[movie_ind]\n",
    "    k=k+1\n",
    "    knn=NearestNeighbors(n_neighbors=k,algorithm='brute',metric=metric)\n",
    "    knn.fit(X)\n",
    "    movie_vec= movie_vec.reshape(1,-1)\n",
    "    neighbour=knn.kneighbors(movie_vec,return_distance=show_distance)\n",
    "    for i in range(0,k):\n",
    "        n=neighbour.item(i)\n",
    "        neighbor_id.append(movie_inv[n])\n",
    "    neighbor_id.pop(0)\n",
    "    return neighbor_id\n",
    "movie_titles=dict(zip(dataset_movies['movieId'], dataset_movies['title']))\n",
    "movie_id=int(input(print(\"enter movie id\")))\n",
    "similar_ids = find_similar_movies(movie_id,X,k=10)\n",
    "movie_title=movie_titles[movie_id]\n",
    "print(\"Since you watched\",movie_title)\n",
    "for i in similar_ids:\n",
    "    print(movie_titles[i])"
   ]
  },
  {
   "cell_type": "code",
   "execution_count": 10,
   "metadata": {},
   "outputs": [],
   "source": [
    "def recommend_movies(user_id,X,user_map_to_index,movie_map_to_index,movie_inv,k=10):\n",
    "    df1=dataset_ratings[dataset_ratings['userId']==user_id]\n",
    "    if df1.empty:\n",
    "        print(\"User with ID \",user_id,\" does not exist\")\n",
    "        return\n",
    "    movie_id=df1[df1['rating']==max(df1['rating'])]['movieId'].iloc[0]\n",
    "    movie_titles=dict(zip(dataset_movies['movieId'], dataset_movies['title']))\n",
    "    similar_ids=find_similar_movies(movie_id,X,k)\n",
    "    movie_title=movie_titles.get(movie_id,\"Movie not found\")\n",
    "    if movie_title ==\"Movie not found\":\n",
    "        print(\"Movie with ID\",movie_id,\"not found\")\n",
    "        return\n",
    "    print(\"Since you watched\",movie_title,\"you might also like: \")\n",
    "    for i in similar_ids:\n",
    "        print(movie_titles.get(i,\"Movie nor found\"))\n"
   ]
  },
  {
   "cell_type": "code",
   "execution_count": 11,
   "metadata": {},
   "outputs": [
    {
     "name": "stdout",
     "output_type": "stream",
     "text": [
      "Since you watched Seven (a.k.a. Se7en) (1995) you might also like: \n",
      "The Drop (2014)\n",
      "Together (Tillsammans) (2000)\n",
      "Grosse Pointe Blank (1997)\n",
      "Angus (1995)\n",
      "Circle of Friends (1995)\n",
      "Adventures of Robin Hood, The (1938)\n",
      "Whiplash (2014)\n",
      "Lady and the Tramp (1955)\n",
      "Wolf of Wall Street, The (2013)\n",
      "There's Something About Mary (1998)\n"
     ]
    }
   ],
   "source": [
    "user_id=int(input(\"Enter user id: \"))\n",
    "recommend_movies(user_id,X,user_map_to_index,movie_map_to_index,movie_inv,k=10)"
   ]
  }
 ],
 "metadata": {
  "kernelspec": {
   "display_name": "Python 3",
   "language": "python",
   "name": "python3"
  },
  "language_info": {
   "codemirror_mode": {
    "name": "ipython",
    "version": 3
   },
   "file_extension": ".py",
   "mimetype": "text/x-python",
   "name": "python",
   "nbconvert_exporter": "python",
   "pygments_lexer": "ipython3",
   "version": "3.12.4"
  }
 },
 "nbformat": 4,
 "nbformat_minor": 2
}
